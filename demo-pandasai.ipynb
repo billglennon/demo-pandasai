{
 "cells": [
  {
   "cell_type": "code",
   "execution_count": 1,
   "id": "30d3e071-e0c2-4257-98a4-c962e2151635",
   "metadata": {},
   "outputs": [],
   "source": [
    "# pip install \"pandasai>=3.0.0b2\"\n",
    "# pip install pandasai-openai\n",
    "# pip install notebook\n",
    "# Had to unstall duckdb and install duckdb 1.1.3",
    "# Python Version: Python 3.11.9"
   ]
  },
  {
   "cell_type": "code",
   "execution_count": 2,
   "id": "c23157fc-590a-4c9d-80f3-a22705c914c7",
   "metadata": {},
   "outputs": [],
   "source": [
    "import pandasai as pai\n",
    "from pandasai_openai.openai import OpenAI\n",
    "import pandas as pd\n",
    "from dotenv import load_dotenv\n",
    "import os\n",
    "from IPython.display import Image, display"
   ]
  },
  {
   "cell_type": "code",
   "execution_count": 3,
   "id": "5c9b4434-4897-452c-90eb-6fe92c85c337",
   "metadata": {},
   "outputs": [],
   "source": [
    "llm = OpenAI(os.getenv('OPENAI_API_KEY'))"
   ]
  },
  {
   "cell_type": "code",
   "execution_count": 4,
   "id": "8ea740d0-4770-4f19-a187-3955cc504059",
   "metadata": {},
   "outputs": [],
   "source": [
    "pai.config.set({\n",
    "    \"llm\": llm\n",
    "})"
   ]
  },
  {
   "cell_type": "code",
   "execution_count": 5,
   "id": "9d7be74f-0e03-4f18-91ba-3578915abdfb",
   "metadata": {},
   "outputs": [
    {
     "name": "stdout",
     "output_type": "stream",
     "text": [
      "- Model: gpt-4.1-mini\n"
     ]
    }
   ],
   "source": [
    "print(f\"- Model: {llm.model}\")"
   ]
  },
  {
   "cell_type": "code",
   "execution_count": 6,
   "id": "4c1b66df-df37-4b8d-826a-21677e8e0ffd",
   "metadata": {},
   "outputs": [],
   "source": [
    "# Sample DataFrame\n",
    "df = pai.DataFrame({\n",
    "    \"country\": [\"United States\", \"United Kingdom\", \"France\", \"Germany\", \"Italy\", \"Spain\", \"Canada\", \"Australia\", \"Japan\", \"China\"],\n",
    "    \"revenue\": [5000, 3200, 2900, 4100, 2300, 2100, 2500, 2600, 4500, 7000]\n",
    "})"
   ]
  },
  {
   "cell_type": "code",
   "execution_count": 7,
   "id": "b69d134c-6c68-4428-b96c-039d3e1f7858",
   "metadata": {},
   "outputs": [
    {
     "name": "stdout",
     "output_type": "stream",
     "text": [
      "\n",
      "Sample Data Frame\n",
      "\n",
      "\n",
      "Which are the top 5 countries by sales?\n",
      "          country  revenue\n",
      "0           China     7000\n",
      "1   United States     5000\n",
      "2           Japan     4500\n",
      "3         Germany     4100\n",
      "4  United Kingdom     3200\n"
     ]
    }
   ],
   "source": [
    "print(\"\\nSample Data Frame\\n\")\n",
    "print(\"\\nWhich are the top 5 countries by sales?\")\n",
    "result = df.chat('Which are the top 5 countries by sales?')\n",
    "print(result)"
   ]
  },
  {
   "cell_type": "code",
   "execution_count": 8,
   "id": "e8c854fc-d111-481f-bec7-9a348a16d31d",
   "metadata": {},
   "outputs": [
    {
     "name": "stdout",
     "output_type": "stream",
     "text": [
      "\n",
      "What is the total sales for the top 3 countries by sales?\n",
      "16500.0\n"
     ]
    }
   ],
   "source": [
    "print(\"\\nWhat is the total sales for the top 3 countries by sales?\")\n",
    "result = df.chat(\"What is the total sales for the top 3 countries by sales?\")\n",
    "print(result)"
   ]
  },
  {
   "cell_type": "code",
   "execution_count": 9,
   "id": "5a450c32-34c5-46b3-a37b-92b052bd3a49",
   "metadata": {},
   "outputs": [
    {
     "name": "stdout",
     "output_type": "stream",
     "text": [
      "\n",
      "Using rfm_segmented.csv data\n",
      "\n"
     ]
    }
   ],
   "source": [
    "print(\"\\nUsing rfm_segmented.csv data\\n\")\n",
    "df = pai.read_csv(\"rfm_segmented.csv\")"
   ]
  },
  {
   "cell_type": "code",
   "execution_count": 10,
   "id": "fa721f57-faf2-4eaf-8e62-9f698923fb47",
   "metadata": {},
   "outputs": [
    {
     "data": {
      "text/html": [
       "<div>\n",
       "<style scoped>\n",
       "    .dataframe tbody tr th:only-of-type {\n",
       "        vertical-align: middle;\n",
       "    }\n",
       "\n",
       "    .dataframe tbody tr th {\n",
       "        vertical-align: top;\n",
       "    }\n",
       "\n",
       "    .dataframe thead th {\n",
       "        text-align: right;\n",
       "    }\n",
       "</style>\n",
       "<table border=\"1\" class=\"dataframe\">\n",
       "  <thead>\n",
       "    <tr style=\"text-align: right;\">\n",
       "      <th></th>\n",
       "      <th>CustomerID</th>\n",
       "      <th>Recency</th>\n",
       "      <th>Frequency</th>\n",
       "      <th>Monetary</th>\n",
       "      <th>R_score</th>\n",
       "      <th>F_score</th>\n",
       "      <th>M_score</th>\n",
       "      <th>RFM_Score</th>\n",
       "      <th>Segment</th>\n",
       "    </tr>\n",
       "  </thead>\n",
       "  <tbody>\n",
       "    <tr>\n",
       "      <th>0</th>\n",
       "      <td>12346</td>\n",
       "      <td>40156</td>\n",
       "      <td>1</td>\n",
       "      <td>77183.60</td>\n",
       "      <td>1</td>\n",
       "      <td>1</td>\n",
       "      <td>5</td>\n",
       "      <td>115</td>\n",
       "      <td>Others</td>\n",
       "    </tr>\n",
       "    <tr>\n",
       "      <th>1</th>\n",
       "      <td>12347</td>\n",
       "      <td>8076</td>\n",
       "      <td>6</td>\n",
       "      <td>4085.18</td>\n",
       "      <td>3</td>\n",
       "      <td>5</td>\n",
       "      <td>5</td>\n",
       "      <td>355</td>\n",
       "      <td>Loyal Customers</td>\n",
       "    </tr>\n",
       "    <tr>\n",
       "      <th>2</th>\n",
       "      <td>12348</td>\n",
       "      <td>13415</td>\n",
       "      <td>4</td>\n",
       "      <td>1797.24</td>\n",
       "      <td>2</td>\n",
       "      <td>4</td>\n",
       "      <td>4</td>\n",
       "      <td>244</td>\n",
       "      <td>At Risk</td>\n",
       "    </tr>\n",
       "    <tr>\n",
       "      <th>3</th>\n",
       "      <td>12349</td>\n",
       "      <td>3978</td>\n",
       "      <td>1</td>\n",
       "      <td>1757.55</td>\n",
       "      <td>4</td>\n",
       "      <td>1</td>\n",
       "      <td>4</td>\n",
       "      <td>414</td>\n",
       "      <td>Recent but Infrequent</td>\n",
       "    </tr>\n",
       "    <tr>\n",
       "      <th>4</th>\n",
       "      <td>12350</td>\n",
       "      <td>38550</td>\n",
       "      <td>1</td>\n",
       "      <td>334.40</td>\n",
       "      <td>1</td>\n",
       "      <td>1</td>\n",
       "      <td>2</td>\n",
       "      <td>112</td>\n",
       "      <td>Others</td>\n",
       "    </tr>\n",
       "  </tbody>\n",
       "</table>\n",
       "</div>"
      ],
      "text/plain": [
       "   CustomerID  Recency  Frequency  Monetary  R_score  F_score  M_score  \\\n",
       "0       12346    40156          1  77183.60        1        1        5   \n",
       "1       12347     8076          6   4085.18        3        5        5   \n",
       "2       12348    13415          4   1797.24        2        4        4   \n",
       "3       12349     3978          1   1757.55        4        1        4   \n",
       "4       12350    38550          1    334.40        1        1        2   \n",
       "\n",
       "   RFM_Score                Segment  \n",
       "0        115                 Others  \n",
       "1        355        Loyal Customers  \n",
       "2        244                At Risk  \n",
       "3        414  Recent but Infrequent  \n",
       "4        112                 Others  "
      ]
     },
     "execution_count": 10,
     "metadata": {},
     "output_type": "execute_result"
    }
   ],
   "source": [
    "# Quick look at the data\n",
    "df.head()"
   ]
  },
  {
   "cell_type": "code",
   "execution_count": 11,
   "id": "2e802887-e6b8-4693-84ab-5e43c3a98275",
   "metadata": {},
   "outputs": [
    {
     "name": "stdout",
     "output_type": "stream",
     "text": [
      "\n",
      "Results using PandasAI - Query #1 How many customers are in each segment?\n",
      "\n",
      "                 Segment  CustomerCount\n",
      "0                 Others           1773\n",
      "1         Best Customers            938\n",
      "2        Loyal Customers            765\n",
      "3  Recent but Infrequent            317\n",
      "4                At Risk            287\n",
      "5         Lost Customers            184\n",
      "6     Big Spenders (New)             70\n",
      "\n",
      "Results using Pandas\n",
      "\n",
      "                 Segment  CustomerCount\n",
      "0                 Others           1773\n",
      "1         Best Customers            938\n",
      "2        Loyal Customers            765\n",
      "3  Recent but Infrequent            317\n",
      "4                At Risk            287\n",
      "5         Lost Customers            184\n",
      "6     Big Spenders (New)             70\n"
     ]
    }
   ],
   "source": [
    "#Query #1: \"How many customers are in each segment?\"\n",
    "result = df.chat(\"How many customers are in each segment?\")\n",
    "print(\"\\nResults using PandasAI - Query #1 How many customers are in each segment?\\n\")\n",
    "print(result)\n",
    "\n",
    "cust_segment = (df.groupby(\"Segment\", dropna=False)[\"CustomerID\"]\n",
    "         .count().sort_values(ascending=False)\n",
    "         .rename(\"CustomerCount\")\n",
    "         .reset_index())\n",
    "print(\"\\nResults using Pandas\\n\")\n",
    "print(cust_segment)"
   ]
  },
  {
   "cell_type": "code",
   "execution_count": 12,
   "id": "d1ed1097-4feb-4019-82c2-fe5292a74325",
   "metadata": {},
   "outputs": [
    {
     "name": "stdout",
     "output_type": "stream",
     "text": [
      "\n",
      " Results using PandasAI - Query #2 What is the average monetary value for each customer segment?\n",
      "\n",
      "                 Segment  Avg_Monetary\n",
      "0         Best Customers   6061.292665\n",
      "1        Loyal Customers   1885.259871\n",
      "2                At Risk   1730.935714\n",
      "3                 Others    584.521220\n",
      "4  Recent but Infrequent    449.752461\n",
      "5     Big Spenders (New)    310.824143\n",
      "6         Lost Customers    144.910109\n",
      "\n",
      "Results using Pandas\n",
      "\n",
      "                 Segment  Avg_Monetary\n",
      "1         Best Customers   6061.292665\n",
      "4        Loyal Customers   1885.259871\n",
      "0                At Risk   1730.935714\n",
      "5                 Others    584.521220\n",
      "6  Recent but Infrequent    449.752461\n",
      "2     Big Spenders (New)    310.824143\n",
      "3         Lost Customers    144.910109\n"
     ]
    }
   ],
   "source": [
    "#Query #2: \"What is the average monetary value for each customer segment?\"\n",
    "\n",
    "result = df.chat(\"What is the average monetary value for each customer segment?\")\n",
    "print(\"\\n Results using PandasAI - Query #2 What is the average monetary value for each customer segment?\\n\")\n",
    "print(result)\n",
    "\n",
    "avg_monetary = (df.groupby(\"Segment\", as_index=False)[\"Monetary\"]\n",
    "                  .mean()\n",
    "                  .rename(columns={\"Monetary\": \"Avg_Monetary\"})\n",
    "                  .sort_values(\"Avg_Monetary\", ascending=False))\n",
    "\n",
    "print(\"\\nResults using Pandas\\n\")\n",
    "print(avg_monetary)"
   ]
  },
  {
   "cell_type": "code",
   "execution_count": 13,
   "id": "e5c7daaf-5541-49af-9b6e-641cf5c4143b",
   "metadata": {},
   "outputs": [
    {
     "name": "stdout",
     "output_type": "stream",
     "text": [
      "\n",
      "Results using PandasAI - Query #3 Plot a bar chart displaying the distribution of customers across the different segments\n",
      "\n",
      "exports\\charts\\temp_chart_55ace933-46fd-4624-9acc-5fdb425d96bb.png\n"
     ]
    }
   ],
   "source": [
    "#Query #3: \"Plot a bar chart displaying the distribution of customers across the different segments.\"\n",
    "\n",
    "result = df.chat(\"Plot a bar chart displaying the distribution of customers across the different segments\")\n",
    "print(\"\\nResults using PandasAI - Query #3 Plot a bar chart displaying the distribution of customers across the different segments\\n\")\n",
    "print(result)"
   ]
  },
  {
   "cell_type": "code",
   "execution_count": 14,
   "id": "346d021a-7b59-405b-8bdb-7bd5a1b97525",
   "metadata": {},
   "outputs": [
    {
     "data": {
      "image/jpeg": "[encoded data removed]",
      "text/plain": [
       "<IPython.core.display.Image object>"
      ]
     },
     "metadata": {},
     "output_type": "display_data"
    }
   ],
   "source": [
    "display(Image(filename='demo_pandasai.jpg'))"
   ]
  },
  {
   "cell_type": "code",
   "execution_count": null,
   "id": "73155529-c8b1-46d7-97b6-cc2932671db0",
   "metadata": {},
   "outputs": [],
   "source": []
  }
 ],
 "metadata": {
  "kernelspec": {
   "display_name": "Python 3 (ipykernel)",
   "language": "python",
   "name": "python3"
  },
  "language_info": {
   "codemirror_mode": {
    "name": "ipython",
    "version": 3
   },
   "file_extension": ".py",
   "mimetype": "text/x-python",
   "name": "python",
   "nbconvert_exporter": "python",
   "pygments_lexer": "ipython3",
   "version": "3.11.9"
  }
 },
 "nbformat": 4,
 "nbformat_minor": 5
}
